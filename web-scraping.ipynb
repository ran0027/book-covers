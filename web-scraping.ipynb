{
 "cells": [
  {
   "cell_type": "code",
   "execution_count": 57,
   "metadata": {},
   "outputs": [],
   "source": [
    "from bs4 import BeautifulSoup\n",
    "import requests\n",
    "\n",
    "import pandas as pd"
   ]
  },
  {
   "cell_type": "markdown",
   "metadata": {},
   "source": [
    "Get subjects (genre and subgenre) for which to scrape and store data."
   ]
  },
  {
   "cell_type": "code",
   "execution_count": null,
   "metadata": {},
   "outputs": [],
   "source": [
    "URL = 'https://openlibrary.org/subjects'\n",
    "response = requests.get(URL)\n",
    "soup = BeautifulSoup(response.text, 'html.parser')"
   ]
  },
  {
   "cell_type": "code",
   "execution_count": 128,
   "metadata": {},
   "outputs": [],
   "source": [
    "genres = [header.text for header in soup.find_all('h3')][:-1]"
   ]
  },
  {
   "cell_type": "code",
   "execution_count": 135,
   "metadata": {},
   "outputs": [],
   "source": [
    "subgenres = []\n",
    "\n",
    "for genre in soup.find(id='subjectsPage').find_all('ul'):\n",
    "    subgenres.append([element.text.strip() for element in genre.find_all('li')])"
   ]
  },
  {
   "cell_type": "code",
   "execution_count": 140,
   "metadata": {},
   "outputs": [
    {
     "name": "stdout",
     "output_type": "stream",
     "text": [
      "Arts: Architecture\n",
      "Arts: Art Instruction\n",
      "Arts: Art History\n",
      "Arts: Dance\n",
      "Arts: Design\n",
      "Arts: Fashion\n",
      "Arts: Film\n",
      "Arts: Graphic Design\n",
      "Arts: Music\n",
      "Arts: Music Theory\n",
      "Arts: Painting\n",
      "Arts: Photography\n",
      "Animals: Bears\n",
      "Animals: Cats\n",
      "Animals: Kittens\n",
      "Animals: Dogs\n",
      "Animals: Puppies\n",
      "Fiction: Fantasy\n",
      "Fiction: Historical Fiction\n",
      "Fiction: Horror\n",
      "Fiction: Humor\n",
      "Fiction: Literature\n",
      "Fiction: Magic\n",
      "Fiction: Mystery and detective stories\n",
      "Fiction: Plays\n",
      "Fiction: Poetry\n",
      "Fiction: Romance\n",
      "Fiction: Science Fiction\n",
      "Fiction: Short Stories\n",
      "Fiction: Thriller\n",
      "Fiction: Young Adult\n",
      "Science & Mathematics: Biology\n",
      "Science & Mathematics: Chemistry\n",
      "Science & Mathematics: Mathematics\n",
      "Science & Mathematics: Physics\n",
      "Science & Mathematics: Programming\n",
      "Business & Finance: Management\n",
      "Business & Finance: Entrepreneurship\n",
      "Business & Finance: Business Economics\n",
      "Business & Finance: Business Success\n",
      "Business & Finance: Finance\n",
      "Children's: Kids Books\n",
      "Children's: Stories in Rhyme\n",
      "Children's: Baby Books\n",
      "Children's: Bedtime Books\n",
      "Children's: Picture Books\n",
      "History: Ancient Civilization\n",
      "History: Archaeology\n",
      "History: Anthropology\n",
      "History: World War II\n",
      "History: Social Life and Customs\n",
      "Health & Wellness: Cooking\n",
      "Health & Wellness: Cookbooks\n",
      "Health & Wellness: Mental Health\n",
      "Health & Wellness: Exercise\n",
      "Health & Wellness: Nutrition\n",
      "Health & Wellness: Self-help\n",
      "Biography: Autobiographies\n",
      "Biography: History\n",
      "Biography: Politics and Government\n",
      "Biography: World War II\n",
      "Biography: Women\n",
      "Biography: Kings and Rulers\n",
      "Biography: Composers\n",
      "Biography: Artists\n",
      "Social Sciences: Anthropology\n",
      "Social Sciences: Religion\n",
      "Social Sciences: Political Science\n",
      "Social Sciences: Psychology\n",
      "Places: Brazil\n",
      "Places: India\n",
      "Places: Indonesia\n",
      "Places: United States\n",
      "Textbooks: History\n",
      "Textbooks: Mathematics\n",
      "Textbooks: Geography\n",
      "Textbooks: Psychology\n",
      "Textbooks: Algebra\n",
      "Textbooks: Education\n",
      "Textbooks: Business & Economics\n",
      "Textbooks: Science\n",
      "Textbooks: Chemistry\n",
      "Textbooks: English Language\n",
      "Textbooks: Physics\n",
      "Textbooks: Computer Science\n",
      "Books by Language: English\n",
      "Books by Language: French\n",
      "Books by Language: Spanish\n",
      "Books by Language: German\n",
      "Books by Language: Russian\n",
      "Books by Language: Italian\n",
      "Books by Language: Chinese\n",
      "Books by Language: Japanese\n",
      "Books by Language: See more...\n"
     ]
    }
   ],
   "source": [
    "for genre, associated_subgenres in zip(genres, subgenres):\n",
    "    for subgenre in associated_subgenres:\n",
    "        print(f'{genre}: {subgenre}')"
   ]
  },
  {
   "cell_type": "markdown",
   "metadata": {},
   "source": [
    "If we iterate over each genre, then over each associated subgenre, I can store the data in a temporary framework like below:"
   ]
  },
  {
   "cell_type": "code",
   "execution_count": null,
   "metadata": {},
   "outputs": [],
   "source": [
    "{'title': [], 'first_published': [], 'authors': [], 'cover_img_url': [], 'languages_available': [], 'subgenre': [],\n",
    "'genre': []}"
   ]
  },
  {
   "cell_type": "markdown",
   "metadata": {},
   "source": [
    "Then update a library dataframe as we go along."
   ]
  },
  {
   "cell_type": "code",
   "execution_count": null,
   "metadata": {},
   "outputs": [],
   "source": [
    "library = pd.concat([library, pd.DataFrame(subgenre)], axis=1)"
   ]
  },
  {
   "cell_type": "markdown",
   "metadata": {},
   "source": [
    "Before I do any additional work, I want to test that I can instantiate an empty dataframe and concatenate it successfully with a non-empty dataframe with the same columns."
   ]
  },
  {
   "cell_type": "code",
   "execution_count": 126,
   "metadata": {},
   "outputs": [
    {
     "data": {
      "text/html": [
       "<div>\n",
       "<style scoped>\n",
       "    .dataframe tbody tr th:only-of-type {\n",
       "        vertical-align: middle;\n",
       "    }\n",
       "\n",
       "    .dataframe tbody tr th {\n",
       "        vertical-align: top;\n",
       "    }\n",
       "\n",
       "    .dataframe thead th {\n",
       "        text-align: right;\n",
       "    }\n",
       "</style>\n",
       "<table border=\"1\" class=\"dataframe\">\n",
       "  <thead>\n",
       "    <tr style=\"text-align: right;\">\n",
       "      <th></th>\n",
       "      <th>title</th>\n",
       "      <th>first_published</th>\n",
       "      <th>authors</th>\n",
       "      <th>cover_img_url</th>\n",
       "      <th>languages_available</th>\n",
       "      <th>subgenre</th>\n",
       "      <th>genre</th>\n",
       "    </tr>\n",
       "  </thead>\n",
       "  <tbody>\n",
       "    <tr>\n",
       "      <th>0</th>\n",
       "      <td>Sky Island: being the further exciting adventu...</td>\n",
       "      <td>1912.0</td>\n",
       "      <td>[L. Frank Baum, Mint Editions, John R. (John R...</td>\n",
       "      <td>archive.org/services/img/skyisland00baum</td>\n",
       "      <td>1.0</td>\n",
       "      <td>NaN</td>\n",
       "      <td>fantasy</td>\n",
       "    </tr>\n",
       "    <tr>\n",
       "      <th>1</th>\n",
       "      <td>The Well at the World's End</td>\n",
       "      <td>1896.0</td>\n",
       "      <td>[William Morris]</td>\n",
       "      <td>archive.org/services/img/lasourceauboutdu0000morr</td>\n",
       "      <td>3.0</td>\n",
       "      <td>NaN</td>\n",
       "      <td>fantasy</td>\n",
       "    </tr>\n",
       "    <tr>\n",
       "      <th>2</th>\n",
       "      <td>Phantastes: a faerie romance</td>\n",
       "      <td>1850.0</td>\n",
       "      <td>[George MacDonald]</td>\n",
       "      <td>archive.org/services/img/phantastes00geor</td>\n",
       "      <td>1.0</td>\n",
       "      <td>NaN</td>\n",
       "      <td>fantasy</td>\n",
       "    </tr>\n",
       "    <tr>\n",
       "      <th>3</th>\n",
       "      <td>Wet Magic (Books of Wonder)</td>\n",
       "      <td>1937.0</td>\n",
       "      <td>[Edith Nesbit]</td>\n",
       "      <td>archive.org/services/img/wetmagic0000nesb</td>\n",
       "      <td>1.0</td>\n",
       "      <td>NaN</td>\n",
       "      <td>fantasy</td>\n",
       "    </tr>\n",
       "    <tr>\n",
       "      <th>4</th>\n",
       "      <td>The Magic City</td>\n",
       "      <td>1910.0</td>\n",
       "      <td>[Edith Nesbit]</td>\n",
       "      <td>archive.org/services/img/magiccity0000nesb</td>\n",
       "      <td>1.0</td>\n",
       "      <td>NaN</td>\n",
       "      <td>fantasy</td>\n",
       "    </tr>\n",
       "    <tr>\n",
       "      <th>...</th>\n",
       "      <td>...</td>\n",
       "      <td>...</td>\n",
       "      <td>...</td>\n",
       "      <td>...</td>\n",
       "      <td>...</td>\n",
       "      <td>...</td>\n",
       "      <td>...</td>\n",
       "    </tr>\n",
       "    <tr>\n",
       "      <th>995</th>\n",
       "      <td>The Emerald City of Oz</td>\n",
       "      <td>1910.0</td>\n",
       "      <td>[L. Frank Baum, John R. Neill, Jenny Sánchez, ...</td>\n",
       "      <td>archive.org/services/img/emeraldcityoz00baum</td>\n",
       "      <td>1.0</td>\n",
       "      <td>NaN</td>\n",
       "      <td>fantasy</td>\n",
       "    </tr>\n",
       "    <tr>\n",
       "      <th>996</th>\n",
       "      <td>The Silmarillion</td>\n",
       "      <td>1800.0</td>\n",
       "      <td>[J.R.R. Tolkien]</td>\n",
       "      <td>archive.org/services/img/silmarilliontolk00tolk</td>\n",
       "      <td>11.0</td>\n",
       "      <td>NaN</td>\n",
       "      <td>fantasy</td>\n",
       "    </tr>\n",
       "    <tr>\n",
       "      <th>997</th>\n",
       "      <td>Rinkitink in Oz</td>\n",
       "      <td>1916.0</td>\n",
       "      <td>[L. Frank Baum, Andrew J. Heller, John Neill]</td>\n",
       "      <td>archive.org/services/img/rinkitinkoz00baum</td>\n",
       "      <td>2.0</td>\n",
       "      <td>NaN</td>\n",
       "      <td>fantasy</td>\n",
       "    </tr>\n",
       "    <tr>\n",
       "      <th>998</th>\n",
       "      <td>Ozma of Oz</td>\n",
       "      <td>1907.0</td>\n",
       "      <td>[L. Frank Baum, Erin Yuen, Taylor Anderson, Jo...</td>\n",
       "      <td>archive.org/services/img/ozmaofoz00baumrich</td>\n",
       "      <td>3.0</td>\n",
       "      <td>NaN</td>\n",
       "      <td>fantasy</td>\n",
       "    </tr>\n",
       "    <tr>\n",
       "      <th>999</th>\n",
       "      <td>The Patchwork Girl of Oz</td>\n",
       "      <td>1913.0</td>\n",
       "      <td>[L. Frank Baum, John R. Neill, Taylor Anderson...</td>\n",
       "      <td>archive.org/services/img/patchworkgirlofo00baum_0</td>\n",
       "      <td>1.0</td>\n",
       "      <td>NaN</td>\n",
       "      <td>fantasy</td>\n",
       "    </tr>\n",
       "  </tbody>\n",
       "</table>\n",
       "<p>1000 rows × 7 columns</p>\n",
       "</div>"
      ],
      "text/plain": [
       "                                                 title  first_published  \\\n",
       "0    Sky Island: being the further exciting adventu...           1912.0   \n",
       "1                          The Well at the World's End           1896.0   \n",
       "2                         Phantastes: a faerie romance           1850.0   \n",
       "3                          Wet Magic (Books of Wonder)           1937.0   \n",
       "4                                       The Magic City           1910.0   \n",
       "..                                                 ...              ...   \n",
       "995                             The Emerald City of Oz           1910.0   \n",
       "996                                   The Silmarillion           1800.0   \n",
       "997                                    Rinkitink in Oz           1916.0   \n",
       "998                                         Ozma of Oz           1907.0   \n",
       "999                           The Patchwork Girl of Oz           1913.0   \n",
       "\n",
       "                                               authors  \\\n",
       "0    [L. Frank Baum, Mint Editions, John R. (John R...   \n",
       "1                                     [William Morris]   \n",
       "2                                   [George MacDonald]   \n",
       "3                                       [Edith Nesbit]   \n",
       "4                                       [Edith Nesbit]   \n",
       "..                                                 ...   \n",
       "995  [L. Frank Baum, John R. Neill, Jenny Sánchez, ...   \n",
       "996                                   [J.R.R. Tolkien]   \n",
       "997      [L. Frank Baum, Andrew J. Heller, John Neill]   \n",
       "998  [L. Frank Baum, Erin Yuen, Taylor Anderson, Jo...   \n",
       "999  [L. Frank Baum, John R. Neill, Taylor Anderson...   \n",
       "\n",
       "                                         cover_img_url  languages_available  \\\n",
       "0             archive.org/services/img/skyisland00baum                  1.0   \n",
       "1    archive.org/services/img/lasourceauboutdu0000morr                  3.0   \n",
       "2            archive.org/services/img/phantastes00geor                  1.0   \n",
       "3            archive.org/services/img/wetmagic0000nesb                  1.0   \n",
       "4           archive.org/services/img/magiccity0000nesb                  1.0   \n",
       "..                                                 ...                  ...   \n",
       "995       archive.org/services/img/emeraldcityoz00baum                  1.0   \n",
       "996    archive.org/services/img/silmarilliontolk00tolk                 11.0   \n",
       "997         archive.org/services/img/rinkitinkoz00baum                  2.0   \n",
       "998        archive.org/services/img/ozmaofoz00baumrich                  3.0   \n",
       "999  archive.org/services/img/patchworkgirlofo00baum_0                  1.0   \n",
       "\n",
       "     subgenre    genre  \n",
       "0         NaN  fantasy  \n",
       "1         NaN  fantasy  \n",
       "2         NaN  fantasy  \n",
       "3         NaN  fantasy  \n",
       "4         NaN  fantasy  \n",
       "..        ...      ...  \n",
       "995       NaN  fantasy  \n",
       "996       NaN  fantasy  \n",
       "997       NaN  fantasy  \n",
       "998       NaN  fantasy  \n",
       "999       NaN  fantasy  \n",
       "\n",
       "[1000 rows x 7 columns]"
      ]
     },
     "execution_count": 126,
     "metadata": {},
     "output_type": "execute_result"
    }
   ],
   "source": [
    "# test out instantiating an empty dataframe and concatenating with a \"full\" df with same columns\n",
    "pd.concat([pd.DataFrame({'title': [], 'first_published': [], 'authors': [], 'cover_img_url': [],\n",
    "                        'languages_available': [], 'subgenre': [], 'genre': []}),\n",
    "           pd.DataFrame(fantasy)], axis=0)"
   ]
  },
  {
   "cell_type": "markdown",
   "metadata": {},
   "source": [
    "---"
   ]
  },
  {
   "cell_type": "markdown",
   "metadata": {},
   "source": [
    "Below is my work to scrape the genres to include in the dataset from openlibrary.org directly. I ran into some issues because one of the pages I needed to find the actual search link for each genre was dynamically loaded, and I do not have experience (yet) with scraping dynamically loaded web pages.\n",
    "\n",
    "Once the time spent trying to scrape the page reached a certain threshold, I decided to build a manual work-around (temporarily) and revisit updating this part of the code after I've learned more about scraping dynamic content using Selenium."
   ]
  },
  {
   "cell_type": "markdown",
   "metadata": {},
   "source": [
    "---"
   ]
  },
  {
   "cell_type": "markdown",
   "metadata": {},
   "source": [
    "Working on getting multiple genres scraped:"
   ]
  },
  {
   "cell_type": "code",
   "execution_count": 87,
   "metadata": {},
   "outputs": [],
   "source": [
    "URL = 'https://openlibrary.org/subjects'\n",
    "response = requests.get(URL)\n",
    "soup = BeautifulSoup(response.text, 'html.parser')"
   ]
  },
  {
   "cell_type": "code",
   "execution_count": 98,
   "metadata": {},
   "outputs": [
    {
     "data": {
      "text/plain": [
       "['Arts',\n",
       " 'Animals',\n",
       " 'Fiction',\n",
       " 'Science & Mathematics',\n",
       " 'Business & Finance',\n",
       " \"Children's\",\n",
       " 'History',\n",
       " 'Health & Wellness',\n",
       " 'Biography',\n",
       " 'Social Sciences',\n",
       " 'Places',\n",
       " 'Textbooks',\n",
       " 'Books by Language']"
      ]
     },
     "execution_count": 98,
     "metadata": {},
     "output_type": "execute_result"
    }
   ],
   "source": [
    "[header.text for header in soup.find_all('h3')][:-1]"
   ]
  },
  {
   "cell_type": "code",
   "execution_count": 115,
   "metadata": {},
   "outputs": [
    {
     "name": "stdout",
     "output_type": "stream",
     "text": [
      "Arts\n",
      "['https://openlibrary.org/subjects/architecture', 'https://openlibrary.org/subjects/art__art_instruction', 'https://openlibrary.org/subjects/history_of_art__art__design_styles', 'https://openlibrary.org/subjects/dance', 'https://openlibrary.org/subjects/design', 'https://openlibrary.org/subjects/fashion', 'https://openlibrary.org/subjects/film', 'https://openlibrary.org/subjects/graphic_design', 'https://openlibrary.org/subjects/music', 'https://openlibrary.org/subjects/music_theory', 'https://openlibrary.org/subjects/painting__paintings', 'https://openlibrary.org/subjects/photography']\n",
      "Animals\n",
      "['https://openlibrary.org/subjects/bears', 'https://openlibrary.org/subjects/cats', 'https://openlibrary.org/subjects/kittens', 'https://openlibrary.org/subjects/dogs', 'https://openlibrary.org/subjects/puppies']\n",
      "Fiction\n",
      "['https://openlibrary.org/subjects/fantasy', 'https://openlibrary.org/subjects/historical_fiction', 'https://openlibrary.org/subjects/horror', 'https://openlibrary.org/subjects/humor', 'https://openlibrary.org/subjects/literature', 'https://openlibrary.org/subjects/magic', 'https://openlibrary.org/subjects/mystery_and_detective_stories', 'https://openlibrary.org/subjects/plays', 'https://openlibrary.org/subjects/poetry', 'https://openlibrary.org/subjects/romance', 'https://openlibrary.org/subjects/science_fiction', 'https://openlibrary.org/subjects/short_stories', 'https://openlibrary.org/subjects/thriller', 'https://openlibrary.org/subjects/young_adult_fiction']\n",
      "Science & Mathematics\n",
      "['https://openlibrary.org/subjects/biology', 'https://openlibrary.org/subjects/chemistry', 'https://openlibrary.org/subjects/mathematics', 'https://openlibrary.org/subjects/physics', 'https://openlibrary.org/subjects/programming']\n",
      "Business & Finance\n",
      "['https://openlibrary.org/subjects/management', 'https://openlibrary.org/subjects/entrepreneurship', 'https://openlibrary.org/subjects/business__economics', 'https://openlibrary.org/subjects/success_in_business', 'https://openlibrary.org/subjects/finance']\n",
      "Children's\n",
      "['https://openlibrary.org/subjects/juvenile_literature', 'https://openlibrary.org/subjects/stories_in_rhyme', 'https://openlibrary.org/subjects/infancy', 'https://openlibrary.org/subjects/bedtime', 'https://openlibrary.org/subjects/picture_books']\n",
      "History\n",
      "['https://openlibrary.org/subjects/ancient_civilization', 'https://openlibrary.org/subjects/archaeology', 'https://openlibrary.org/subjects/anthropology', 'https://openlibrary.org/search?q=subject%3AHistory&subject_facet=History&subject_facet=World+War%2C+1939-1945', 'https://openlibrary.org/search?q=subject%3AHistory&subject_facet=History&subject_facet=Social+life+and+customs']\n",
      "Health & Wellness\n",
      "['https://openlibrary.org/subjects/cooking', 'https://openlibrary.org/subjects/cookbooks', 'https://openlibrary.org/subjects/mental_health', 'https://openlibrary.org/subjects/exercise', 'https://openlibrary.org/subjects/nutrition', 'https://openlibrary.org/subjects/self-help']\n",
      "Biography\n",
      "['https://openlibrary.org/subjects/autobiography', 'https://openlibrary.org/search?q=subject%3ABiography&subject_facet=Biography&subject_facet=History', 'https://openlibrary.org/search?q=subject%3ABiography&subject_facet=Biography&subject_facet=Politics+and+government', 'https://openlibrary.org/search?q=subject%3ABiography&subject_facet=Biography&subject_facet=World+War%2C+1939-1945', 'https://openlibrary.org/search?q=subject%3ABiography&subject_facet=Biography&subject_facet=Women', 'https://openlibrary.org/search?q=subject%3ABiography&subject_facet=Biography&subject_facet=Kings+and+rulers', 'https://openlibrary.org/search?q=subject%3ABiography&subject_facet=Biography&subject_facet=Composers', 'https://openlibrary.org/search?q=subject%3ABiography&subject_facet=Biography&subject_facet=Artists']\n",
      "Social Sciences\n",
      "['https://openlibrary.org/subjects/anthropology', 'https://openlibrary.org/subjects/religion', 'https://openlibrary.org/subjects/political_science', 'https://openlibrary.org/subjects/psychology']\n",
      "Places\n",
      "['https://openlibrary.org/subjects/place%3Abrazil', 'https://openlibrary.org/subjects/place%3Aindia', 'https://openlibrary.org/subjects/place%3Aindonesia', 'https://openlibrary.org/subjects/place%3Aunited_states']\n",
      "Textbooks\n",
      "['https://openlibrary.org/search?q=subject%3ATextbooks&subject_facet=Textbooks&subject_facet=History', 'https://openlibrary.org/search?q=subject%3ATextbooks&subject_facet=Textbooks&subject_facet=Mathematics', 'https://openlibrary.org/search?q=subject%3ATextbooks&subject_facet=Textbooks&subject_facet=Geography', 'https://openlibrary.org/search?q=subject%3ATextbooks&subject_facet=Textbooks&subject_facet=Psychology', 'https://openlibrary.org/search?q=subject%3ATextbooks&subject_facet=Textbooks&subject_facet=Algebra', 'https://openlibrary.org/search?q=subject%3ATextbooks&subject_facet=Textbooks&subject_facet=Education', 'https://openlibrary.org/search?q=subject%3ATextbook+subject%3ABusiness&subject_facet=Textbooks', 'https://openlibrary.org/search?q=subject%3ATextbooks&subject_facet=Textbooks&subject_facet=Science', 'https://openlibrary.org/search?q=subject%3ATextbooks&subject_facet=Textbooks&subject_facet=Chemistry', 'https://openlibrary.org/search?q=subject%3ATextbooks&subject_facet=Textbooks&subject_facet=English+language', 'https://openlibrary.org/search?q=subject%3ATextbooks&subject_facet=Textbooks&subject_facet=Physics', 'https://openlibrary.org/search?q=subject%3A%22Computer+science%22&sort=editions&subject_facet=Computer+science']\n",
      "Books by Language\n",
      "['https://openlibrary.org/search?q=language%3Aeng', 'https://openlibrary.org/search?q=language%3Afre', 'https://openlibrary.org/search?q=language%3Aspa', 'https://openlibrary.org/search?q=language%3Ager', 'https://openlibrary.org/search?q=language%3Arus', 'https://openlibrary.org/search?q=language%3Aita', 'https://openlibrary.org/search?q=language%3Achi', 'https://openlibrary.org/search?q=language%3Ajpn', 'https://openlibrary.org/languages']\n"
     ]
    }
   ],
   "source": [
    "root_url = 'https://openlibrary.org'\n",
    "\n",
    "for name, location_in_soup in zip([header.text for header in soup.find_all('h3')][:-1],\n",
    "                                  soup.find(id='subjectsPage').find_all('ul')):\n",
    "    print(name)\n",
    "    list_of_urls = [root_url+a_tag.find('a')['href'] for a_tag in location_in_soup.find_all('li')]\n",
    "    print(list_of_urls)\n",
    "    \n",
    "    test_url = list_of_urls[0]"
   ]
  },
  {
   "cell_type": "code",
   "execution_count": 116,
   "metadata": {},
   "outputs": [
    {
     "name": "stdout",
     "output_type": "stream",
     "text": [
      "https://openlibrary.org/search?q=language%3Aeng\n"
     ]
    }
   ],
   "source": [
    "print(test_url)"
   ]
  },
  {
   "cell_type": "code",
   "execution_count": 113,
   "metadata": {},
   "outputs": [],
   "source": [
    "intermediate_response = requests.get(test_url)\n",
    "intermediate_soup = BeautifulSoup(intermediate_response.text, 'html.parser')\n",
    "intermediate_soup.find('div', class_='page-heading-search-box')"
   ]
  },
  {
   "cell_type": "code",
   "execution_count": 114,
   "metadata": {},
   "outputs": [
    {
     "data": {
      "text/plain": [
       "[<div id=\"test-body-mobile\">\n",
       " <div class=\"flash-messages\">\n",
       " <div class=\"error\"><span>/openlibrary/openlibrary/templates/work_search.html: error in processing template: ReadTimeout: HTTPConnectionPool(host='ol-solr0', port=8984): Read timed out. (read timeout=10) (falling back to default template)</span></div>\n",
       " </div>\n",
       "     \n",
       "     \n",
       "     Unable to render this page.\n",
       "   </div>]"
      ]
     },
     "execution_count": 114,
     "metadata": {},
     "output_type": "execute_result"
    }
   ],
   "source": [
    "intermediate_soup.find_all('div', id='test-body-mobile') # dynamically loaded content? try selenium?"
   ]
  },
  {
   "cell_type": "code",
   "execution_count": 118,
   "metadata": {},
   "outputs": [
    {
     "data": {
      "text/plain": [
       "[<a class=\"iaLogo\" href=\"https://archive.org\"><img alt=\"Internet Archive logo\" src=\"/static/images/ia-logo.svg\" width=\"160\"/></a>,\n",
       " <a class=\"ghost-btn\" data-ol-link-track=\"IABar|DonateButton\" href=\"https://archive.org/donate/?platform=ol&amp;origin=olwww-TopNavDonateButton\">Donate <span aria-hidden=\"true\" class=\"heart\">♥</span></a>,\n",
       " <a data-lang-id=\"cs\" href=\"#\" lang=\"cs\" title=\"Czech\">Čeština (cs)</a>,\n",
       " <a data-lang-id=\"de\" href=\"#\" lang=\"de\" title=\"German\">Deutsch (de)</a>,\n",
       " <a data-lang-id=\"en\" href=\"#\" lang=\"en\" title=\"English\">English (en)</a>,\n",
       " <a data-lang-id=\"es\" href=\"#\" lang=\"es\" title=\"Spanish\">Español (es)</a>,\n",
       " <a data-lang-id=\"fr\" href=\"#\" lang=\"fr\" title=\"French\">Français (fr)</a>,\n",
       " <a data-lang-id=\"hr\" href=\"#\" lang=\"hr\" title=\"Croatian\">Hrvatski (hr)</a>,\n",
       " <a data-lang-id=\"pt\" href=\"#\" lang=\"pt\" title=\"Portuguese\">Português (pt)</a>,\n",
       " <a data-lang-id=\"te\" href=\"#\" lang=\"te\" title=\"Telugu\">తెలుగు (te)</a>,\n",
       " <a data-lang-id=\"uk\" href=\"#\" lang=\"uk\" title=\"Ukrainian\">Українська (uk)</a>,\n",
       " <a data-lang-id=\"zh\" href=\"#\" lang=\"zh\" title=\"Chinese\">中文 (zh)</a>,\n",
       " <a href=\"/\" title=\"The Internet Archive's Open Library: One page for every book\">\n",
       " <div class=\"logo-txt\">\n",
       " <img alt=\"Open Library logo\" class=\"logo-icon\" height=\"47\" src=\"/static/images/openlibrary-logo-tighter.svg\" width=\"189\"/>\n",
       " </div>\n",
       " </a>,\n",
       " <a data-ol-link-track=\"MainNav|MyBooks\" href=\"/account/books\">My Books</a>,\n",
       " <a data-ol-link-track=\"MainNav|Subjects\" href=\"/subjects\">\n",
       "           Subjects\n",
       "         </a>,\n",
       " <a data-ol-link-track=\"MainNav|Trending\" href=\"/trending\">\n",
       "           Trending\n",
       "         </a>,\n",
       " <a data-ol-link-track=\"MainNav|Explore\" href=\"/explore\">\n",
       "           Library Explorer\n",
       "         </a>,\n",
       " <a data-ol-link-track=\"MainNav|Lists\" href=\"/lists\">\n",
       "           Lists\n",
       "         </a>,\n",
       " <a data-ol-link-track=\"MainNav|Collections\" href=\"/collections\">\n",
       "           Collections\n",
       "         </a>,\n",
       " <a data-ol-link-track=\"MainNav|K12Library\" href=\"/k-12\">\n",
       "           K-12 Student Library\n",
       "         </a>,\n",
       " <a data-ol-link-track=\"MainNav|BookTalks\" href=\"/booktalks\">\n",
       "           Book Talks\n",
       "         </a>,\n",
       " <a data-ol-link-track=\"MainNav|RandomBook\" href=\"/random\">\n",
       "           Random Book\n",
       "         </a>,\n",
       " <a data-ol-link-track=\"MainNav|AdvancedSearch\" href=\"/advancedsearch\">\n",
       "           Advanced Search\n",
       "         </a>,\n",
       " <a aria-label=\"Search by barcode\" class=\"search-by-barcode-submit\" href=\"/barcodescanner?returnTo=/isbn/$$$\" id=\"barcode_scanner_link\" title=\"Search by barcode\">\n",
       " </a>,\n",
       " <a class=\"btn\" href=\"/account/login\">Log In</a>,\n",
       " <a class=\"btn primary\" href=\"/account/create\">Sign Up</a>,\n",
       " <a class=\"login-links__secondary\" href=\"/account/login\">Log In</a>,\n",
       " <a class=\"login-links__primary\" href=\"/account/create\">Sign Up</a>,\n",
       " <a data-ol-link-track=\"Hamburger|Subjects\" href=\"/subjects\">\n",
       "           Subjects\n",
       "         </a>,\n",
       " <a data-ol-link-track=\"Hamburger|Trending\" href=\"/trending\">\n",
       "           Trending\n",
       "         </a>,\n",
       " <a data-ol-link-track=\"Hamburger|Explore\" href=\"/explore\">\n",
       "           Library Explorer\n",
       "         </a>,\n",
       " <a data-ol-link-track=\"Hamburger|Lists\" href=\"/lists\">\n",
       "           Lists\n",
       "         </a>,\n",
       " <a data-ol-link-track=\"Hamburger|Collections\" href=\"/collections\">\n",
       "           Collections\n",
       "         </a>,\n",
       " <a data-ol-link-track=\"Hamburger|K12Library\" href=\"/k-12\">\n",
       "           K-12 Student Library\n",
       "         </a>,\n",
       " <a data-ol-link-track=\"Hamburger|BookTalks\" href=\"/booktalks\">\n",
       "           Book Talks\n",
       "         </a>,\n",
       " <a data-ol-link-track=\"Hamburger|RandomBook\" href=\"/random\">\n",
       "           Random Book\n",
       "         </a>,\n",
       " <a data-ol-link-track=\"Hamburger|AdvancedSearch\" href=\"/advancedsearch\">\n",
       "           Advanced Search\n",
       "         </a>,\n",
       " <a data-ol-link-track=\"Hamburger|AddBook\" href=\"/books/add\">\n",
       "           Add a Book\n",
       "         </a>,\n",
       " <a data-ol-link-track=\"Hamburger|RecentEdits\" href=\"/recentchanges\">\n",
       "           Recent Community Edits\n",
       "         </a>,\n",
       " <a data-ol-link-track=\"Hamburger|Help\" href=\"/help\">\n",
       "           Help &amp; Support\n",
       "         </a>,\n",
       " <a data-ol-link-track=\"Hamburger|DevelopersHelp\" href=\"/developers\">\n",
       "           Developer Center\n",
       "         </a>,\n",
       " <a data-ol-link-track=\"Hamburger|LibrariansHelp\" href=\"/librarians\">\n",
       "           Librarians Portal\n",
       "         </a>,\n",
       " <a data-ol-link-track=\"MainNav|MyBooks\" href=\"/account/books\">My Books</a>,\n",
       " <a data-ol-link-track=\"MainNav|Subjects\" href=\"/subjects\">\n",
       "           Subjects\n",
       "         </a>,\n",
       " <a data-ol-link-track=\"MainNav|Trending\" href=\"/trending\">\n",
       "           Trending\n",
       "         </a>,\n",
       " <a data-ol-link-track=\"MainNav|Explore\" href=\"/explore\">\n",
       "           Library Explorer\n",
       "         </a>,\n",
       " <a data-ol-link-track=\"MainNav|Lists\" href=\"/lists\">\n",
       "           Lists\n",
       "         </a>,\n",
       " <a data-ol-link-track=\"MainNav|Collections\" href=\"/collections\">\n",
       "           Collections\n",
       "         </a>,\n",
       " <a data-ol-link-track=\"MainNav|K12Library\" href=\"/k-12\">\n",
       "           K-12 Student Library\n",
       "         </a>,\n",
       " <a data-ol-link-track=\"MainNav|BookTalks\" href=\"/booktalks\">\n",
       "           Book Talks\n",
       "         </a>,\n",
       " <a data-ol-link-track=\"MainNav|RandomBook\" href=\"/random\">\n",
       "           Random Book\n",
       "         </a>,\n",
       " <a data-ol-link-track=\"MainNav|AdvancedSearch\" href=\"/advancedsearch\">\n",
       "           Advanced Search\n",
       "         </a>,\n",
       " <a href=\"/about/vision\">Vision</a>,\n",
       " <a href=\"/volunteer\">Volunteer</a>,\n",
       " <a href=\"/partner-with-us\">Partner With Us</a>,\n",
       " <a href=\"https://archive.org/about/jobs.php\" title=\"Jobs\">Careers</a>,\n",
       " <a href=\"https://blog.openlibrary.org/\">Blog</a>,\n",
       " <a href=\"https://archive.org/about/terms.php\">Terms of Service</a>,\n",
       " <a href=\"https://archive.org/donate/?platform=ol&amp;origin=olwww-TopNavDonateButton\">Donate</a>,\n",
       " <a href=\"/\" title=\"Go home\">Home</a>,\n",
       " <a href=\"/search\" title=\"Explore Books\">Books</a>,\n",
       " <a href=\"/search/authors\" title=\"Explore authors\">Authors</a>,\n",
       " <a href=\"/subjects\" title=\"Explore subjects\">Subjects</a>,\n",
       " <a href=\"/collections\" title=\"Explore collections\">Collections</a>,\n",
       " <a href=\"/advancedsearch\">Advanced Search</a>,\n",
       " <a href=\"#top\" title=\"Navigate to top of this page\">Return to Top</a>,\n",
       " <a href=\"/developers\" title=\"Explore Open Library Developer Center\">Developer Center</a>,\n",
       " <a href=\"/developers/api\" title=\"Explore Open Library APIs\">API Documentation</a>,\n",
       " <a href=\"/developers/dumps\" title=\"Bulk Open Library data\">Bulk Data Dumps</a>,\n",
       " <a href=\"https://github.com/internetarchive/openlibrary/wiki/Writing-Bots\" title=\"Write a bot\">Writing Bots</a>,\n",
       " <a href=\"/books/add\" title=\"Add a new book to Open Library\">Add a Book</a>,\n",
       " <a href=\"/help\">Help Center</a>,\n",
       " <a href=\"/contact?path=%2Fsearch%3Fq%3Dlanguage%253Aeng\" title=\"Problems\">Report A Problem</a>,\n",
       " <a href=\"/help/faq/editing\" title=\"Suggest Edits\">Suggesting Edits</a>,\n",
       " <a class=\"footer-icons__twitter\" href=\"https://twitter.com/OpenLibrary\">twitter</a>,\n",
       " <a class=\"footer-icons__github\" href=\"https://github.com/internetarchive/openlibrary\">github</a>,\n",
       " <a data-lang-id=\"cs\" href=\"#\" lang=\"cs\" title=\"Czech\">Čeština (cs)</a>,\n",
       " <a data-lang-id=\"de\" href=\"#\" lang=\"de\" title=\"German\">Deutsch (de)</a>,\n",
       " <a data-lang-id=\"en\" href=\"#\" lang=\"en\" title=\"English\">English (en)</a>,\n",
       " <a data-lang-id=\"es\" href=\"#\" lang=\"es\" title=\"Spanish\">Español (es)</a>,\n",
       " <a data-lang-id=\"fr\" href=\"#\" lang=\"fr\" title=\"French\">Français (fr)</a>,\n",
       " <a data-lang-id=\"hr\" href=\"#\" lang=\"hr\" title=\"Croatian\">Hrvatski (hr)</a>,\n",
       " <a data-lang-id=\"pt\" href=\"#\" lang=\"pt\" title=\"Portuguese\">Português (pt)</a>,\n",
       " <a data-lang-id=\"te\" href=\"#\" lang=\"te\" title=\"Telugu\">తెలుగు (te)</a>,\n",
       " <a data-lang-id=\"uk\" href=\"#\" lang=\"uk\" title=\"Ukrainian\">Українська (uk)</a>,\n",
       " <a data-lang-id=\"zh\" href=\"#\" lang=\"zh\" title=\"Chinese\">中文 (zh)</a>,\n",
       " <a href=\"//archive.org/\">Internet Archive</a>,\n",
       " <a href=\"//archive.org/projects/\">projects</a>,\n",
       " <a href=\"//archive.org/web/\">Wayback Machine</a>,\n",
       " <a href=\"//archive.org/\">archive.org</a>,\n",
       " <a href=\"//archive-it.org\">archive-it.org</a>]"
      ]
     },
     "execution_count": 118,
     "metadata": {},
     "output_type": "execute_result"
    }
   ],
   "source": [
    "intermediate_soup.find_all('a')"
   ]
  },
  {
   "cell_type": "markdown",
   "metadata": {},
   "source": [
    "---"
   ]
  },
  {
   "cell_type": "code",
   "execution_count": null,
   "metadata": {},
   "outputs": [],
   "source": [
    "%%time\n",
    "\n",
    "# come back to this when iterating over genres\n",
    "# # set initial URL\n",
    "# URL = \n",
    "\n",
    "# reset fantasy dictionary to store information from scraping\n",
    "fantasy = {'title': [], 'first_published': [], 'authors': [], 'cover_img_url': [], 'languages_available': [],\n",
    "           'genre': []}\n",
    "\n",
    "# set initial value for page number\n",
    "page_no = 1\n",
    "\n",
    "# set flag to end while loop\n",
    "flag = 1\n",
    "\n",
    "# check whether there are still books to be scraped\n",
    "while flag == 1:\n",
    "    # set URL of web page to scrape; get new response; make soup\n",
    "    URL = f'https://openlibrary.org/search?subject=Fantasy&page{page_no}'\n",
    "    response = requests.get(URL)\n",
    "    soup = BeautifulSoup(response.text, 'html.parser')\n",
    "    \n",
    "    # if there are no books on this page, exit loop\n",
    "    books_in_soup = soup.find_all('li', class_='searchResultItem')\n",
    "    \n",
    "    if books_in_soup:    \n",
    "        for book in books_in_soup:\n",
    "        # append title, year of first publication, list of authors, cover image URL and number of languages available\n",
    "            try:\n",
    "                fantasy['title'].append(book.find('h3', class_='booktitle').find('a').text)\n",
    "            except:\n",
    "                print('Warning: title null')\n",
    "                fantasy['title'].append(None)\n",
    "\n",
    "            try:\n",
    "                fantasy['first_published'].append(\n",
    "                    int(book.find('span', class_='publishedYear').text.strip().split()[-1]))\n",
    "            except:\n",
    "                print('Warning: year of first publication null')\n",
    "                fantasy['first_published'].append(None)\n",
    "\n",
    "            try:\n",
    "                fantasy['authors'].append(\n",
    "                    [a_tag.text for a_tag in book.find('span', class_='bookauthor').find_all('a', class_='results')])\n",
    "            except:\n",
    "                print('Warning: authors null')\n",
    "                fantasy['authors'].append(None)\n",
    "\n",
    "            try:\n",
    "                fantasy['cover_img_url'].append(book.find_all('img')[-1]['src'].strip('/'))\n",
    "            except:\n",
    "                print('Warning: cover image URL null')\n",
    "                fantasy['cover_img_url'].append(None)\n",
    "\n",
    "            try:\n",
    "                fantasy['languages_available'].append(\n",
    "                    int(book.find('span', class_='languages').find('a').text.split()[0]))\n",
    "            except:\n",
    "                print('Warning: number of languages available null')\n",
    "                fantasy['languages_available'].append(None)\n",
    "        \n",
    "            # also append genre (in this case, fantasy)\n",
    "            fantasy['genre'].append('fantasy')\n",
    "            \n",
    "        # when finished scraping books in soup, increment page number\n",
    "        page_no += 1\n",
    "        \n",
    "        # set a limit on number of pages to scrape\n",
    "        if page_no <= 50:\n",
    "            flag = 1\n",
    "        else:\n",
    "            flag = 0\n",
    "            break\n",
    "        \n",
    "    else:\n",
    "        flag = 0\n",
    "        break"
   ]
  },
  {
   "cell_type": "code",
   "execution_count": 84,
   "metadata": {},
   "outputs": [
    {
     "name": "stdout",
     "output_type": "stream",
     "text": [
      "CPU times: user 10.1 s, sys: 258 ms, total: 10.3 s\n",
      "Wall time: 2min 39s\n"
     ]
    }
   ],
   "source": [
    "%%time\n",
    "\n",
    "# come back to this when iterating over genres\n",
    "# # set initial URL\n",
    "# URL = \n",
    "\n",
    "# reset fantasy dictionary to store information from scraping\n",
    "fantasy = {'title': [], 'first_published': [], 'authors': [], 'cover_img_url': [], 'languages_available': [],\n",
    "           'genre': []}\n",
    "\n",
    "# set initial value for page number\n",
    "page_no = 1\n",
    "\n",
    "# set flag to end while loop\n",
    "flag = 1\n",
    "\n",
    "# check whether there are still books to be scraped\n",
    "while flag == 1:\n",
    "    # set URL of web page to scrape; get new response; make soup\n",
    "    URL = f'https://openlibrary.org/search?subject=Fantasy&page{page_no}'\n",
    "    response = requests.get(URL)\n",
    "    soup = BeautifulSoup(response.text, 'html.parser')\n",
    "    \n",
    "    # if there are no books on this page, exit loop\n",
    "    books_in_soup = soup.find_all('li', class_='searchResultItem')\n",
    "    \n",
    "    if books_in_soup:    \n",
    "        for book in books_in_soup:\n",
    "        # append title, year of first publication, list of authors, cover image URL and number of languages available\n",
    "            try:\n",
    "                fantasy['title'].append(book.find('h3', class_='booktitle').find('a').text)\n",
    "            except:\n",
    "                print('Warning: title null')\n",
    "                fantasy['title'].append(None)\n",
    "\n",
    "            try:\n",
    "                fantasy['first_published'].append(\n",
    "                    int(book.find('span', class_='publishedYear').text.strip().split()[-1]))\n",
    "            except:\n",
    "                print('Warning: year of first publication null')\n",
    "                fantasy['first_published'].append(None)\n",
    "\n",
    "            try:\n",
    "                fantasy['authors'].append(\n",
    "                    [a_tag.text for a_tag in book.find('span', class_='bookauthor').find_all('a', class_='results')])\n",
    "            except:\n",
    "                print('Warning: authors null')\n",
    "                fantasy['authors'].append(None)\n",
    "\n",
    "            try:\n",
    "                fantasy['cover_img_url'].append(book.find_all('img')[-1]['src'].strip('/'))\n",
    "            except:\n",
    "                print('Warning: cover image URL null')\n",
    "                fantasy['cover_img_url'].append(None)\n",
    "\n",
    "            try:\n",
    "                fantasy['languages_available'].append(\n",
    "                    int(book.find('span', class_='languages').find('a').text.split()[0]))\n",
    "            except:\n",
    "                print('Warning: number of languages available null')\n",
    "                fantasy['languages_available'].append(None)\n",
    "        \n",
    "            # also append genre (in this case, fantasy)\n",
    "            fantasy['genre'].append('fantasy')\n",
    "            \n",
    "        # when finished scraping books in soup, increment page number\n",
    "        page_no += 1\n",
    "        \n",
    "        # set a limit on number of pages to scrape\n",
    "        if page_no <= 50:\n",
    "            flag = 1\n",
    "        else:\n",
    "            flag = 0\n",
    "            break\n",
    "        \n",
    "    else:\n",
    "        flag = 0\n",
    "        break"
   ]
  },
  {
   "cell_type": "code",
   "execution_count": 86,
   "metadata": {},
   "outputs": [
    {
     "data": {
      "text/html": [
       "<div>\n",
       "<style scoped>\n",
       "    .dataframe tbody tr th:only-of-type {\n",
       "        vertical-align: middle;\n",
       "    }\n",
       "\n",
       "    .dataframe tbody tr th {\n",
       "        vertical-align: top;\n",
       "    }\n",
       "\n",
       "    .dataframe thead th {\n",
       "        text-align: right;\n",
       "    }\n",
       "</style>\n",
       "<table border=\"1\" class=\"dataframe\">\n",
       "  <thead>\n",
       "    <tr style=\"text-align: right;\">\n",
       "      <th></th>\n",
       "      <th>title</th>\n",
       "      <th>first_published</th>\n",
       "      <th>authors</th>\n",
       "      <th>cover_img_url</th>\n",
       "      <th>languages_available</th>\n",
       "      <th>genre</th>\n",
       "    </tr>\n",
       "  </thead>\n",
       "  <tbody>\n",
       "    <tr>\n",
       "      <th>0</th>\n",
       "      <td>Sky Island: being the further exciting adventu...</td>\n",
       "      <td>1912</td>\n",
       "      <td>[L. Frank Baum, Mint Editions, John R. (John R...</td>\n",
       "      <td>archive.org/services/img/skyisland00baum</td>\n",
       "      <td>1</td>\n",
       "      <td>fantasy</td>\n",
       "    </tr>\n",
       "    <tr>\n",
       "      <th>1</th>\n",
       "      <td>The Well at the World's End</td>\n",
       "      <td>1896</td>\n",
       "      <td>[William Morris]</td>\n",
       "      <td>archive.org/services/img/lasourceauboutdu0000morr</td>\n",
       "      <td>3</td>\n",
       "      <td>fantasy</td>\n",
       "    </tr>\n",
       "    <tr>\n",
       "      <th>2</th>\n",
       "      <td>Phantastes: a faerie romance</td>\n",
       "      <td>1850</td>\n",
       "      <td>[George MacDonald]</td>\n",
       "      <td>archive.org/services/img/phantastes00geor</td>\n",
       "      <td>1</td>\n",
       "      <td>fantasy</td>\n",
       "    </tr>\n",
       "    <tr>\n",
       "      <th>3</th>\n",
       "      <td>Wet Magic (Books of Wonder)</td>\n",
       "      <td>1937</td>\n",
       "      <td>[Edith Nesbit]</td>\n",
       "      <td>archive.org/services/img/wetmagic0000nesb</td>\n",
       "      <td>1</td>\n",
       "      <td>fantasy</td>\n",
       "    </tr>\n",
       "    <tr>\n",
       "      <th>4</th>\n",
       "      <td>The Magic City</td>\n",
       "      <td>1910</td>\n",
       "      <td>[Edith Nesbit]</td>\n",
       "      <td>archive.org/services/img/magiccity0000nesb</td>\n",
       "      <td>1</td>\n",
       "      <td>fantasy</td>\n",
       "    </tr>\n",
       "    <tr>\n",
       "      <th>...</th>\n",
       "      <td>...</td>\n",
       "      <td>...</td>\n",
       "      <td>...</td>\n",
       "      <td>...</td>\n",
       "      <td>...</td>\n",
       "      <td>...</td>\n",
       "    </tr>\n",
       "    <tr>\n",
       "      <th>995</th>\n",
       "      <td>The Emerald City of Oz</td>\n",
       "      <td>1910</td>\n",
       "      <td>[L. Frank Baum, John R. Neill, Jenny Sánchez, ...</td>\n",
       "      <td>archive.org/services/img/emeraldcityoz00baum</td>\n",
       "      <td>1</td>\n",
       "      <td>fantasy</td>\n",
       "    </tr>\n",
       "    <tr>\n",
       "      <th>996</th>\n",
       "      <td>The Silmarillion</td>\n",
       "      <td>1800</td>\n",
       "      <td>[J.R.R. Tolkien]</td>\n",
       "      <td>archive.org/services/img/silmarilliontolk00tolk</td>\n",
       "      <td>11</td>\n",
       "      <td>fantasy</td>\n",
       "    </tr>\n",
       "    <tr>\n",
       "      <th>997</th>\n",
       "      <td>Rinkitink in Oz</td>\n",
       "      <td>1916</td>\n",
       "      <td>[L. Frank Baum, Andrew J. Heller, John Neill]</td>\n",
       "      <td>archive.org/services/img/rinkitinkoz00baum</td>\n",
       "      <td>2</td>\n",
       "      <td>fantasy</td>\n",
       "    </tr>\n",
       "    <tr>\n",
       "      <th>998</th>\n",
       "      <td>Ozma of Oz</td>\n",
       "      <td>1907</td>\n",
       "      <td>[L. Frank Baum, Erin Yuen, Taylor Anderson, Jo...</td>\n",
       "      <td>archive.org/services/img/ozmaofoz00baumrich</td>\n",
       "      <td>3</td>\n",
       "      <td>fantasy</td>\n",
       "    </tr>\n",
       "    <tr>\n",
       "      <th>999</th>\n",
       "      <td>The Patchwork Girl of Oz</td>\n",
       "      <td>1913</td>\n",
       "      <td>[L. Frank Baum, John R. Neill, Taylor Anderson...</td>\n",
       "      <td>archive.org/services/img/patchworkgirlofo00baum_0</td>\n",
       "      <td>1</td>\n",
       "      <td>fantasy</td>\n",
       "    </tr>\n",
       "  </tbody>\n",
       "</table>\n",
       "<p>1000 rows × 6 columns</p>\n",
       "</div>"
      ],
      "text/plain": [
       "                                                 title  first_published  \\\n",
       "0    Sky Island: being the further exciting adventu...             1912   \n",
       "1                          The Well at the World's End             1896   \n",
       "2                         Phantastes: a faerie romance             1850   \n",
       "3                          Wet Magic (Books of Wonder)             1937   \n",
       "4                                       The Magic City             1910   \n",
       "..                                                 ...              ...   \n",
       "995                             The Emerald City of Oz             1910   \n",
       "996                                   The Silmarillion             1800   \n",
       "997                                    Rinkitink in Oz             1916   \n",
       "998                                         Ozma of Oz             1907   \n",
       "999                           The Patchwork Girl of Oz             1913   \n",
       "\n",
       "                                               authors  \\\n",
       "0    [L. Frank Baum, Mint Editions, John R. (John R...   \n",
       "1                                     [William Morris]   \n",
       "2                                   [George MacDonald]   \n",
       "3                                       [Edith Nesbit]   \n",
       "4                                       [Edith Nesbit]   \n",
       "..                                                 ...   \n",
       "995  [L. Frank Baum, John R. Neill, Jenny Sánchez, ...   \n",
       "996                                   [J.R.R. Tolkien]   \n",
       "997      [L. Frank Baum, Andrew J. Heller, John Neill]   \n",
       "998  [L. Frank Baum, Erin Yuen, Taylor Anderson, Jo...   \n",
       "999  [L. Frank Baum, John R. Neill, Taylor Anderson...   \n",
       "\n",
       "                                         cover_img_url  languages_available  \\\n",
       "0             archive.org/services/img/skyisland00baum                    1   \n",
       "1    archive.org/services/img/lasourceauboutdu0000morr                    3   \n",
       "2            archive.org/services/img/phantastes00geor                    1   \n",
       "3            archive.org/services/img/wetmagic0000nesb                    1   \n",
       "4           archive.org/services/img/magiccity0000nesb                    1   \n",
       "..                                                 ...                  ...   \n",
       "995       archive.org/services/img/emeraldcityoz00baum                    1   \n",
       "996    archive.org/services/img/silmarilliontolk00tolk                   11   \n",
       "997         archive.org/services/img/rinkitinkoz00baum                    2   \n",
       "998        archive.org/services/img/ozmaofoz00baumrich                    3   \n",
       "999  archive.org/services/img/patchworkgirlofo00baum_0                    1   \n",
       "\n",
       "       genre  \n",
       "0    fantasy  \n",
       "1    fantasy  \n",
       "2    fantasy  \n",
       "3    fantasy  \n",
       "4    fantasy  \n",
       "..       ...  \n",
       "995  fantasy  \n",
       "996  fantasy  \n",
       "997  fantasy  \n",
       "998  fantasy  \n",
       "999  fantasy  \n",
       "\n",
       "[1000 rows x 6 columns]"
      ]
     },
     "execution_count": 86,
     "metadata": {},
     "output_type": "execute_result"
    }
   ],
   "source": [
    "pd.DataFrame(fantasy)"
   ]
  },
  {
   "cell_type": "markdown",
   "metadata": {},
   "source": [
    "Below this point is my process to create the above loop, piece by piece, with the information I want to extract from openlibrary.org."
   ]
  },
  {
   "cell_type": "code",
   "execution_count": 75,
   "metadata": {},
   "outputs": [],
   "source": [
    "URL = 'https://openlibrary.org/search?subject=Fantasy&page=1'"
   ]
  },
  {
   "cell_type": "code",
   "execution_count": 76,
   "metadata": {},
   "outputs": [
    {
     "name": "stdout",
     "output_type": "stream",
     "text": [
      "200\n"
     ]
    }
   ],
   "source": [
    "response = requests.get(URL)\n",
    "print(response.status_code)"
   ]
  },
  {
   "cell_type": "code",
   "execution_count": 77,
   "metadata": {},
   "outputs": [],
   "source": [
    "soup = BeautifulSoup(response.text, 'html.parser')"
   ]
  },
  {
   "cell_type": "code",
   "execution_count": 78,
   "metadata": {},
   "outputs": [
    {
     "data": {
      "text/plain": [
       "20"
      ]
     },
     "execution_count": 78,
     "metadata": {},
     "output_type": "execute_result"
    }
   ],
   "source": [
    "len(soup.find_all('li', class_='searchResultItem'))"
   ]
  },
  {
   "cell_type": "markdown",
   "metadata": {},
   "source": [
    "Test out extracting information on an Example Book:"
   ]
  },
  {
   "cell_type": "code",
   "execution_count": 79,
   "metadata": {},
   "outputs": [
    {
     "name": "stdout",
     "output_type": "stream",
     "text": [
      "<li class=\"searchResultItem\" itemscope=\"\" itemtype=\"https://schema.org/Book\">\n",
      "<span class=\"bookcover\">\n",
      "<a href=\"/works/OL262385W?edition=ia%3Acihm_78964\"><img alt=\"Cover of: Sky Island: being the further exciting adventures of Trot and Cap'n Bill after their visit to the sea fairies\" itemprop=\"image\" src=\"//covers.openlibrary.org/b/olid/OL19285157M-M.jpg\" title=\"Cover of: Sky Island: being the further exciting adventures of Trot and Cap'n Bill after their visit to the sea fairies\"/></a>\n",
      "</span>\n",
      "<div class=\"details\">\n",
      "<div class=\"resultTitle\">\n",
      "<h3 class=\"booktitle\" itemprop=\"name\">\n",
      "<a class=\"results\" href=\"/works/OL262385W?edition=ia%3Acihm_78964\" itemprop=\"url\">Sky Island: being the further exciting adventures of Trot and Cap'n Bill after their visit to the sea fairies</a>\n",
      "</h3>\n",
      "</div>\n",
      "<span class=\"bookauthor\" itemprop=\"author\" itemscope=\"\" itemtype=\"https://schema.org/Organization\">\n",
      "        \n",
      "by <a class=\"results\" href=\"/authors/OL9348793A/L._Frank_Baum\">L. Frank Baum</a>, <a class=\"results\" href=\"/authors/OL8370471A/Mint_Editions\">Mint Editions</a>, and <a class=\"results\" href=\"/authors/OL11388226A/John_R._(John_Rea)_Neill\">John R. (John Rea) Neill</a>\n",
      "</span>\n",
      "<span class=\"resultPublisher\">\n",
      "<span class=\"publishedYear\">\n",
      "          First published in 1912\n",
      "        </span>\n",
      "<a href=\"/works/OL262385W?edition=ia%3Acihm_78964#editions-list\">266 editions</a>\n",
      "<span class=\"languages\">\n",
      "          in <a class=\"hoverlink\" title=\"English\">1 language</a>\n",
      "</span>\n",
      "        — 2 previewable\n",
      "        <span class=\"preview-covers\">\n",
      "<a href=\"/works/OL262385W?edition=ia:skyisland00baum\">\n",
      "<img alt=\"Cover of edition skyisland00baum\" height=\"45\" loading=\"lazy\" src=\"//archive.org/services/img/skyisland00baum\" width=\"30\"/>\n",
      "</a>\n",
      "</span>\n",
      "</span>\n",
      "</div>\n",
      "<div class=\"searchResultItemCTA\">\n",
      "<div class=\"searchResultItemCTA-lending\">\n",
      "<div class=\"cta-button-group\">\n",
      "<a class=\"cta-btn cta-btn--ia cta-btn--available cta-btn--read\" data-ol-link-track=\"CTAClick|Read\" href=\"/borrow/ia/cihm_78964?ref=ol\" title=\"Read ebook from Internet Archive\">Read</a>\n",
      "<a class=\"cta-btn cta-btn--available cta-btn--w-icon\" data-ol-link-track=\"CTAClick|ReadListen\" href=\"/borrow/ia/cihm_78964?ref=ol&amp;_autoReadAloud=show\" title=\"Read ebook from Internet Archive using Read Aloud\">\n",
      "<span class=\"btn-icon read-aloud\"></span>\n",
      "<span class=\"btn-label\">Listen</span>\n",
      "</a>\n",
      "</div>\n",
      "</div>\n",
      "<div class=\"dropit\">\n",
      "<div class=\"dropper on\">\n",
      "<div class=\"log-work\">\n",
      "<form action=\"/works/OL262385W/bookshelves.json\" method=\"POST\">\n",
      "<input name=\"action\" type=\"hidden\" value=\"add\">\n",
      "<button class=\"unactivated\" type=\"submit\">Want to Read</button>\n",
      "</input></form>\n",
      "<a class=\"dropclick-prevent dropclick-unactivated\" href=\"/account/login?redirect=/search\">\n",
      "<div class=\"arrow arrow-unactivated\"></div>\n",
      "</a>\n",
      "</div>\n",
      "</div>\n",
      "</div>\n",
      "</div>\n",
      "</li>\n"
     ]
    }
   ],
   "source": [
    "example_book = soup.find_all('li', class_='searchResultItem')[0]\n",
    "print(example_book)"
   ]
  },
  {
   "cell_type": "markdown",
   "metadata": {},
   "source": [
    "**Find the title of the book** // string"
   ]
  },
  {
   "cell_type": "code",
   "execution_count": 80,
   "metadata": {},
   "outputs": [
    {
     "data": {
      "text/plain": [
       "\"Sky Island: being the further exciting adventures of Trot and Cap'n Bill after their visit to the sea fairies\""
      ]
     },
     "execution_count": 80,
     "metadata": {},
     "output_type": "execute_result"
    }
   ],
   "source": [
    "example_book.find('h3', class_='booktitle').find('a').text"
   ]
  },
  {
   "cell_type": "markdown",
   "metadata": {},
   "source": [
    "**Find the year of (first) publication** // integer"
   ]
  },
  {
   "cell_type": "code",
   "execution_count": 54,
   "metadata": {},
   "outputs": [
    {
     "data": {
      "text/plain": [
       "1912"
      ]
     },
     "execution_count": 54,
     "metadata": {},
     "output_type": "execute_result"
    }
   ],
   "source": [
    "int(example_book.find('span', class_='publishedYear').text.strip().split()[-1])"
   ]
  },
  {
   "cell_type": "markdown",
   "metadata": {},
   "source": [
    "**Find the link to cover image of the book** // string"
   ]
  },
  {
   "cell_type": "code",
   "execution_count": 40,
   "metadata": {},
   "outputs": [
    {
     "data": {
      "text/plain": [
       "'archive.org/services/img/skyisland00baum'"
      ]
     },
     "execution_count": 40,
     "metadata": {},
     "output_type": "execute_result"
    }
   ],
   "source": [
    "example_book.find_all('img')[-1]['src'].strip('/')"
   ]
  },
  {
   "cell_type": "markdown",
   "metadata": {},
   "source": [
    "**Find the author name(s)** // list of strings"
   ]
  },
  {
   "cell_type": "code",
   "execution_count": 46,
   "metadata": {},
   "outputs": [
    {
     "data": {
      "text/plain": [
       "['L. Frank Baum', 'Mint Editions', 'John R. (John Rea) Neill']"
      ]
     },
     "execution_count": 46,
     "metadata": {},
     "output_type": "execute_result"
    }
   ],
   "source": [
    "[a_tag.text for a_tag in example_book.find('span', class_='bookauthor').find_all('a', class_='results')]"
   ]
  },
  {
   "cell_type": "markdown",
   "metadata": {},
   "source": [
    "**Find the number of languages in which this book is available** // int"
   ]
  },
  {
   "cell_type": "code",
   "execution_count": 52,
   "metadata": {},
   "outputs": [
    {
     "data": {
      "text/plain": [
       "1"
      ]
     },
     "execution_count": 52,
     "metadata": {},
     "output_type": "execute_result"
    }
   ],
   "source": [
    "int(example_book.find('span', class_='languages').find('a').text.split()[0])"
   ]
  },
  {
   "cell_type": "markdown",
   "metadata": {},
   "source": [
    "Test out the above on all books on the page (then expand to iterate over all pages!)\n",
    "\n",
    "Store data in dictionaries, to transform into a Pandas DataFrame of fantasy books."
   ]
  },
  {
   "cell_type": "code",
   "execution_count": 62,
   "metadata": {},
   "outputs": [
    {
     "data": {
      "text/html": [
       "<div>\n",
       "<style scoped>\n",
       "    .dataframe tbody tr th:only-of-type {\n",
       "        vertical-align: middle;\n",
       "    }\n",
       "\n",
       "    .dataframe tbody tr th {\n",
       "        vertical-align: top;\n",
       "    }\n",
       "\n",
       "    .dataframe thead th {\n",
       "        text-align: right;\n",
       "    }\n",
       "</style>\n",
       "<table border=\"1\" class=\"dataframe\">\n",
       "  <thead>\n",
       "    <tr style=\"text-align: right;\">\n",
       "      <th></th>\n",
       "      <th>title</th>\n",
       "      <th>first_published</th>\n",
       "      <th>authors</th>\n",
       "      <th>cover_img_url</th>\n",
       "      <th>languages_available</th>\n",
       "      <th>genre</th>\n",
       "    </tr>\n",
       "  </thead>\n",
       "  <tbody>\n",
       "    <tr>\n",
       "      <th>0</th>\n",
       "      <td>Sky Island: being the further exciting adventu...</td>\n",
       "      <td>1912</td>\n",
       "      <td>[L. Frank Baum, Mint Editions, John R. (John R...</td>\n",
       "      <td>archive.org/services/img/skyisland00baum</td>\n",
       "      <td>1</td>\n",
       "      <td>fantasy</td>\n",
       "    </tr>\n",
       "    <tr>\n",
       "      <th>1</th>\n",
       "      <td>The Well at the World's End</td>\n",
       "      <td>1896</td>\n",
       "      <td>[William Morris]</td>\n",
       "      <td>archive.org/services/img/lasourceauboutdu0000morr</td>\n",
       "      <td>3</td>\n",
       "      <td>fantasy</td>\n",
       "    </tr>\n",
       "    <tr>\n",
       "      <th>2</th>\n",
       "      <td>Phantastes: a faerie romance</td>\n",
       "      <td>1850</td>\n",
       "      <td>[George MacDonald]</td>\n",
       "      <td>archive.org/services/img/phantastes00geor</td>\n",
       "      <td>1</td>\n",
       "      <td>fantasy</td>\n",
       "    </tr>\n",
       "    <tr>\n",
       "      <th>3</th>\n",
       "      <td>Wet Magic (Books of Wonder)</td>\n",
       "      <td>1937</td>\n",
       "      <td>[Edith Nesbit]</td>\n",
       "      <td>archive.org/services/img/wetmagic0000nesb</td>\n",
       "      <td>1</td>\n",
       "      <td>fantasy</td>\n",
       "    </tr>\n",
       "    <tr>\n",
       "      <th>4</th>\n",
       "      <td>The Magic City</td>\n",
       "      <td>1910</td>\n",
       "      <td>[Edith Nesbit]</td>\n",
       "      <td>archive.org/services/img/magiccity0000nesb</td>\n",
       "      <td>1</td>\n",
       "      <td>fantasy</td>\n",
       "    </tr>\n",
       "  </tbody>\n",
       "</table>\n",
       "</div>"
      ],
      "text/plain": [
       "                                               title  first_published  \\\n",
       "0  Sky Island: being the further exciting adventu...             1912   \n",
       "1                        The Well at the World's End             1896   \n",
       "2                       Phantastes: a faerie romance             1850   \n",
       "3                        Wet Magic (Books of Wonder)             1937   \n",
       "4                                     The Magic City             1910   \n",
       "\n",
       "                                             authors  \\\n",
       "0  [L. Frank Baum, Mint Editions, John R. (John R...   \n",
       "1                                   [William Morris]   \n",
       "2                                 [George MacDonald]   \n",
       "3                                     [Edith Nesbit]   \n",
       "4                                     [Edith Nesbit]   \n",
       "\n",
       "                                       cover_img_url  languages_available  \\\n",
       "0           archive.org/services/img/skyisland00baum                    1   \n",
       "1  archive.org/services/img/lasourceauboutdu0000morr                    3   \n",
       "2          archive.org/services/img/phantastes00geor                    1   \n",
       "3          archive.org/services/img/wetmagic0000nesb                    1   \n",
       "4         archive.org/services/img/magiccity0000nesb                    1   \n",
       "\n",
       "     genre  \n",
       "0  fantasy  \n",
       "1  fantasy  \n",
       "2  fantasy  \n",
       "3  fantasy  \n",
       "4  fantasy  "
      ]
     },
     "execution_count": 62,
     "metadata": {},
     "output_type": "execute_result"
    }
   ],
   "source": [
    "fantasy = {'title': [], 'first_published': [], 'authors': [], 'cover_img_url': [], 'languages_available': [],\n",
    "           'genre': []}\n",
    "\n",
    "for book in soup.find_all('li', class_='searchResultItem'):\n",
    "    # append title, year of first publication, list of authors, cover image URL and number of languages available\n",
    "    try:\n",
    "        fantasy['title'].append(book.find('h3', class_='booktitle').find('a').text)\n",
    "    except:\n",
    "        print('Warning: title null')\n",
    "        fantasy['title'].append(None)\n",
    "        \n",
    "    try:\n",
    "        fantasy['first_published'].append(\n",
    "            int(book.find('span', class_='publishedYear').text.strip().split()[-1]))\n",
    "    except:\n",
    "        print('Warning: year of first publication null')\n",
    "        fantasy['first_published'].append(None)\n",
    "        \n",
    "    try:\n",
    "        fantasy['authors'].append(\n",
    "            [a_tag.text for a_tag in book.find('span', class_='bookauthor').find_all('a', class_='results')])\n",
    "    except:\n",
    "        print('Warning: authors null')\n",
    "        fantasy['authors'].append(None)\n",
    "        \n",
    "    try:\n",
    "        fantasy['cover_img_url'].append(book.find_all('img')[-1]['src'].strip('/'))\n",
    "    except:\n",
    "        print('Warning: cover image URL null')\n",
    "        fantasy['cover_img_url'].append(None)\n",
    "        \n",
    "    try:\n",
    "        fantasy['languages_available'].append(\n",
    "            int(book.find('span', class_='languages').find('a').text.split()[0]))\n",
    "    except:\n",
    "        print('Warning: number of languages available null')\n",
    "        fantasy['languages_available'].append(None)\n",
    "        \n",
    "    fantasy['genre'].append('fantasy')\n",
    "        \n",
    "library = pd.DataFrame(fantasy)\n",
    "\n",
    "library.head()"
   ]
  }
 ],
 "metadata": {
  "kernelspec": {
   "display_name": "Python (learn-env)",
   "language": "python",
   "name": "learn-env"
  },
  "language_info": {
   "codemirror_mode": {
    "name": "ipython",
    "version": 3
   },
   "file_extension": ".py",
   "mimetype": "text/x-python",
   "name": "python",
   "nbconvert_exporter": "python",
   "pygments_lexer": "ipython3",
   "version": "3.8.5"
  },
  "toc": {
   "base_numbering": 1,
   "nav_menu": {},
   "number_sections": true,
   "sideBar": true,
   "skip_h1_title": false,
   "title_cell": "Table of Contents",
   "title_sidebar": "Contents",
   "toc_cell": false,
   "toc_position": {},
   "toc_section_display": true,
   "toc_window_display": false
  }
 },
 "nbformat": 4,
 "nbformat_minor": 4
}
